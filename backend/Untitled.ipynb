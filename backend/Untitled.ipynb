{
 "cells": [
  {
   "cell_type": "code",
   "execution_count": 7,
   "id": "c821bf40-0a08-4f2e-a536-1415dd6b6f57",
   "metadata": {},
   "outputs": [],
   "source": [
    "import os\n",
    "from moviepy.editor import *"
   ]
  },
  {
   "cell_type": "code",
   "execution_count": 8,
   "id": "97b53bf2-f167-43fe-b90a-532331f2785d",
   "metadata": {},
   "outputs": [
    {
     "data": {
      "text/plain": [
       "['AFTERNOON.avi',\n",
       " 'BOY.avi',\n",
       " 'BYE.avi',\n",
       " 'FINE.avi',\n",
       " 'GIRL.avi',\n",
       " 'GOOD.avi',\n",
       " 'HE.avi',\n",
       " 'HELLO.avi',\n",
       " 'HOW ARE YOU.avi',\n",
       " 'I.avi',\n",
       " 'MORNING.avi',\n",
       " 'NIGHT.avi',\n",
       " 'PLEASE.avi',\n",
       " 'SHE.avi',\n",
       " 'THANK YOU.avi',\n",
       " 'YOU.avi']"
      ]
     },
     "execution_count": 8,
     "metadata": {},
     "output_type": "execute_result"
    }
   ],
   "source": [
    "os.listdir('./data')"
   ]
  },
  {
   "cell_type": "code",
   "execution_count": 5,
   "id": "a48bb7d9-8caa-4a57-a667-4f6c186689f8",
   "metadata": {},
   "outputs": [
    {
     "data": {
      "text/plain": [
       "'./data\\\\AFTERNOON.avi'"
      ]
     },
     "execution_count": 5,
     "metadata": {},
     "output_type": "execute_result"
    }
   ],
   "source": [
    "file_path=os.path.join('./data','AFTERNOON.avi')\n",
    "file_path"
   ]
  },
  {
   "cell_type": "code",
   "execution_count": 6,
   "id": "1f403e94-decd-4082-a2ac-47411a3e95d7",
   "metadata": {},
   "outputs": [],
   "source": [
    "VideoFileClip(file_path).preview(fps=30)"
   ]
  },
  {
   "cell_type": "code",
   "execution_count": 2,
   "id": "42e51dee-839c-4512-b0b8-2260fc8904dc",
   "metadata": {},
   "outputs": [
    {
     "name": "stdin",
     "output_type": "stream",
     "text": [
      " Hello Adi\n"
     ]
    },
    {
     "data": {
      "text/plain": [
       "['HELLO', 'ADI']"
      ]
     },
     "execution_count": 2,
     "metadata": {},
     "output_type": "execute_result"
    }
   ],
   "source": [
    "sentences=input().upper().split()\n",
    "sentences\n"
   ]
  },
  {
   "cell_type": "code",
   "execution_count": 9,
   "id": "d4edc8f1-2a1f-4775-8815-5786c5e4d6e7",
   "metadata": {},
   "outputs": [
    {
     "data": {
      "text/plain": [
       "['./data\\\\HELLO', './data\\\\ADI']"
      ]
     },
     "execution_count": 9,
     "metadata": {},
     "output_type": "execute_result"
    }
   ],
   "source": [
    "file_path =[os.path.join('./data',f'{sentence}')for sentence in sentences]\n",
    "file_path"
   ]
  },
  {
   "cell_type": "code",
   "execution_count": 11,
   "id": "b73daf47-13eb-4c91-8657-b9e572b6709f",
   "metadata": {},
   "outputs": [],
   "source": [
    "video_files = [os.path.join('./data', f\"{sentence}.avi\") for sentence in sentences]"
   ]
  },
  {
   "cell_type": "code",
   "execution_count": 12,
   "id": "9ed54147-3fee-4452-ac72-f53599fed232",
   "metadata": {},
   "outputs": [
    {
     "data": {
      "text/plain": [
       "['./data\\\\HELLO.avi', './data\\\\ADI.avi']"
      ]
     },
     "execution_count": 12,
     "metadata": {},
     "output_type": "execute_result"
    }
   ],
   "source": [
    "video_files"
   ]
  },
  {
   "cell_type": "code",
   "execution_count": 23,
   "id": "845d9d9d-7103-4490-ad77-201efc015069",
   "metadata": {},
   "outputs": [
    {
     "data": {
      "text/plain": [
       "['AFTERNOON.avi',\n",
       " 'BOY.avi',\n",
       " 'BYE.avi',\n",
       " 'FINE.avi',\n",
       " 'GIRL.avi',\n",
       " 'GOOD.avi',\n",
       " 'HE.avi',\n",
       " 'HELLO.avi',\n",
       " 'HOWAREYOU.avi',\n",
       " 'I.avi',\n",
       " 'MORNING.avi',\n",
       " 'NIGHT.avi',\n",
       " 'PLEASE.avi',\n",
       " 'SHE.avi',\n",
       " 'THANKYOU.avi',\n",
       " 'YOU.avi']"
      ]
     },
     "execution_count": 23,
     "metadata": {},
     "output_type": "execute_result"
    }
   ],
   "source": [
    "all_words=os.listdir('./data')\n",
    "all_words"
   ]
  },
  {
   "cell_type": "code",
   "execution_count": 24,
   "id": "5466e309-b4da-4cfb-a401-6d7bb7229393",
   "metadata": {},
   "outputs": [
    {
     "name": "stdin",
     "output_type": "stream",
     "text": [
      " hello everyone afternoon morning\n"
     ]
    },
    {
     "name": "stdout",
     "output_type": "stream",
     "text": [
      "['HELLO', 'AFTERNOON', 'MORNING']\n"
     ]
    }
   ],
   "source": [
    "sentences=input().upper().split()\n",
    "all_words=os.listdir('./data')\n",
    "valid_sentences = [sentence for sentence in sentences if sentence+\".avi\" in all_words]\n",
    "print(valid_sentences)\n"
   ]
  },
  {
   "cell_type": "code",
   "execution_count": null,
   "id": "fffebb0c-4e4b-4aaa-bb62-f72a47bf5db8",
   "metadata": {},
   "outputs": [],
   "source": []
  }
 ],
 "metadata": {
  "kernelspec": {
   "display_name": "Python 3 (ipykernel)",
   "language": "python",
   "name": "python3"
  },
  "language_info": {
   "codemirror_mode": {
    "name": "ipython",
    "version": 3
   },
   "file_extension": ".py",
   "mimetype": "text/x-python",
   "name": "python",
   "nbconvert_exporter": "python",
   "pygments_lexer": "ipython3",
   "version": "3.8.10"
  }
 },
 "nbformat": 4,
 "nbformat_minor": 5
}
