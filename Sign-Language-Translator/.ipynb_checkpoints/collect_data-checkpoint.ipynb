{
 "cells": [
  {
   "cell_type": "code",
   "execution_count": 1,
   "id": "923787de-395c-4860-bf6d-3512f23e59b7",
   "metadata": {},
   "outputs": [],
   "source": [
    "# Import necessary libraries\n",
    "import os\n",
    "import numpy as np\n",
    "import cv2\n",
    "import mediapipe as mp\n",
    "from itertools import product\n",
    "from my_functions import *\n",
    "import keyboard\n"
   ]
  },
  {
   "cell_type": "code",
   "execution_count": 2,
   "id": "c79ec812-ac1f-4d62-9105-180192d1644d",
   "metadata": {},
   "outputs": [],
   "source": [
    "# Define the actions (signs) that will be recorded and stored in the dataset\n",
    "actions = np.array(['Good Morning', 'Good Afternoon', 'Good Night'])\n"
   ]
  },
  {
   "cell_type": "code",
   "execution_count": 3,
   "id": "caf96414-8d65-476d-be6f-321c958eb878",
   "metadata": {},
   "outputs": [],
   "source": [
    "# Define the number of sequences and frames to be recorded for each action\n",
    "sequences = 10\n",
    "frames = 24\n"
   ]
  },
  {
   "cell_type": "code",
   "execution_count": 6,
   "id": "e4126ada-7bb6-4848-84b3-7dca2b618758",
   "metadata": {},
   "outputs": [],
   "source": [
    "# Set the path where the dataset will be stored\n",
    "PATH = os.path.join('data')\n",
    "\n",
    "# Create directories for each action, sequence, and frame in the dataset\n",
    "for action, sequence in product(actions, range(sequences)):\n",
    "    try:\n",
    "        os.makedirs(os.path.join(PATH, action, str(sequence)))\n",
    "    except:\n",
    "        pass"
   ]
  },
  {
   "cell_type": "code",
   "execution_count": 8,
   "id": "afd5e437-1fd6-4b38-8192-c9dc92971e2d",
   "metadata": {},
   "outputs": [],
   "source": [
    "# Access the camera and check if the camera is opened successfully\n",
    "cap = cv2.VideoCapture(0)\n",
    "if not cap.isOpened():\n",
    "    print(\"Cannot access camera.\")\n",
    "    exit()\n",
    "\n",
    "# Create a MediaPipe Holistic object for hand tracking and landmark extraction\n",
    "with mp.solutions.holistic.Holistic(min_detection_confidence=0.75, min_tracking_confidence=0.75) as holistic:\n",
    "    # Loop through each action, sequence, and frame to record data\n",
    "    for action, sequence, frame in product(actions, range(sequences), range(frames)):\n",
    "        # If it is the first frame of a sequence, wait for the spacebar key press to start recording\n",
    "        if frame == 0: \n",
    "            while True:\n",
    "                if keyboard.is_pressed(' '):\n",
    "                    break\n",
    "                _, image = cap.read()\n",
    "\n",
    "                results = image_process(image, holistic)\n",
    "                draw_landmarks(image, results)\n",
    "\n",
    "                cv2.putText(image, 'Recroding data for the \"{}\". Sequence number {}.'.format(action, sequence),\n",
    "                            (20,20), cv2.FONT_HERSHEY_SIMPLEX, 0.5, (0,0,255), 1, cv2.LINE_AA)\n",
    "                cv2.putText(image, 'Pause.', (20,400), cv2.FONT_HERSHEY_SIMPLEX, 1, (0,0,255), 2, cv2.LINE_AA)\n",
    "                cv2.putText(image, 'Press \"Space\" when you are ready.', (20,450), cv2.FONT_HERSHEY_SIMPLEX, 1, (0,0,255), 2, cv2.LINE_AA)\n",
    "                cv2.imshow('Camera', image)\n",
    "                cv2.waitKey(1)\n",
    "                \n",
    "                # Check if the 'Camera' window was closed and break the loop\n",
    "                if cv2.getWindowProperty('Camera',cv2.WND_PROP_VISIBLE) < 1:\n",
    "                    break\n",
    "        else:\n",
    "            # For subsequent frames, directly read the image from the camera\n",
    "            _, image = cap.read()\n",
    "            # Process the image and extract hand landmarks using the MediaPipe Holistic pipeline\n",
    "            results = image_process(image, holistic)\n",
    "            # Draw the hand landmarks on the image\n",
    "            draw_landmarks(image, results)\n",
    "\n",
    "            # Display text on the image indicating the action and sequence number being recorded\n",
    "            cv2.putText(image, 'Recroding data for the \"{}\". Sequence number {}.'.format(action, sequence),\n",
    "                        (20,20), cv2.FONT_HERSHEY_SIMPLEX, 0.5, (0,0,255), 1, cv2.LINE_AA)\n",
    "            cv2.imshow('Camera', image)\n",
    "            cv2.waitKey(1)\n",
    "\n",
    "        # Check if the 'Camera' window was closed and break the loop\n",
    "        if cv2.getWindowProperty('Camera',cv2.WND_PROP_VISIBLE) < 1:\n",
    "             break\n",
    "\n",
    "        # Extract the landmarks from both hands and save them in arrays\n",
    "        keypoints = keypoint_extraction(results)\n",
    "        frame_path = os.path.join(PATH, action, str(sequence), str(frame))\n",
    "        np.save(frame_path, keypoints)\n",
    "\n",
    "    # Release the camera and close any remaining windows\n",
    "    cap.release()\n",
    "    cv2.destroyAllWindows()\n"
   ]
  },
  {
   "cell_type": "code",
   "execution_count": null,
   "id": "796b3078-db5e-4a25-b4fd-bc0d91a7e60f",
   "metadata": {},
   "outputs": [],
   "source": []
  }
 ],
 "metadata": {
  "kernelspec": {
   "display_name": "Python 3 (ipykernel)",
   "language": "python",
   "name": "python3"
  },
  "language_info": {
   "codemirror_mode": {
    "name": "ipython",
    "version": 3
   },
   "file_extension": ".py",
   "mimetype": "text/x-python",
   "name": "python",
   "nbconvert_exporter": "python",
   "pygments_lexer": "ipython3",
   "version": "3.8.10"
  }
 },
 "nbformat": 4,
 "nbformat_minor": 5
}
