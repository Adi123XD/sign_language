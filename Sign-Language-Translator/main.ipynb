{
 "cells": [
  {
   "cell_type": "code",
   "execution_count": 26,
   "id": "68710968-170b-42fb-9196-7157e02d48af",
   "metadata": {},
   "outputs": [],
   "source": [
    "# Import necessary libraries\n",
    "import numpy as np\n",
    "import os\n",
    "import string\n",
    "import mediapipe as mp\n",
    "import cv2\n",
    "from my_functions import *\n",
    "import keyboard\n",
    "from tensorflow.keras.models import load_model\n",
    "import pyttsx3"
   ]
  },
  {
   "cell_type": "code",
   "execution_count": 27,
   "id": "2edca4f4-5f4a-452b-8261-de51ce9634ba",
   "metadata": {},
   "outputs": [],
   "source": [
    "# Set the path to the data directory\n",
    "PATH = os.path.join('word_dataset\\word_dataset')\n",
    "# PATH = os.path.join('greetings_data')\n",
    "\n",
    "# Create an array of action labels by listing the contents of the data directory\n",
    "actions = np.array(os.listdir(PATH))\n"
   ]
  },
  {
   "cell_type": "code",
   "execution_count": 28,
   "id": "fc5fa9f7-e4ef-4f3d-8c99-18870bccda42",
   "metadata": {},
   "outputs": [
    {
     "data": {
      "text/plain": [
       "array(['all', 'evening', 'Good', 'how are you', 'I am fine', 'Sorry',\n",
       "       'teacher', 'We', 'welcome', 'you'], dtype='<U11')"
      ]
     },
     "execution_count": 28,
     "metadata": {},
     "output_type": "execute_result"
    }
   ],
   "source": [
    "actions"
   ]
  },
  {
   "cell_type": "code",
   "execution_count": 15,
   "id": "e9e214ec-7dbd-44ad-b16a-e40192c54437",
   "metadata": {},
   "outputs": [],
   "source": [
    "# Load the trained model\n",
    "# model = load_model(r'D:\\Sign-Language-Translator\\models\\greetings_model.h5')\n",
    "model = load_model(r'D:\\Sign-Language-Translator\\modelwithgraph100')"
   ]
  },
  {
   "cell_type": "code",
   "execution_count": 16,
   "id": "482309a7-e151-404f-a96a-672317234ed5",
   "metadata": {},
   "outputs": [],
   "source": [
    "# Initialize the lists\n",
    "sentence, keypoints, last_prediction = [], [], []\n",
    "\n",
    "engine = pyttsx3.init()\n"
   ]
  },
  {
   "cell_type": "code",
   "execution_count": 34,
   "id": "d5c7f984-b4d4-4d29-ae4d-e45b53b02ced",
   "metadata": {},
   "outputs": [
    {
     "name": "stdout",
     "output_type": "stream",
     "text": [
      "1/1 [==============================] - 0s 44ms/step\n",
      "1/1 [==============================] - 0s 30ms/step\n",
      "1/1 [==============================] - 0s 29ms/step\n",
      "1/1 [==============================] - 0s 35ms/step\n",
      "1/1 [==============================] - 0s 24ms/step\n",
      "1/1 [==============================] - 0s 31ms/step\n",
      "1/1 [==============================] - 0s 27ms/step\n",
      "1/1 [==============================] - 0s 27ms/step\n",
      "1/1 [==============================] - 0s 24ms/step\n",
      "1/1 [==============================] - 0s 29ms/step\n",
      "1/1 [==============================] - 0s 24ms/step\n",
      "1/1 [==============================] - 0s 22ms/step\n",
      "1/1 [==============================] - 0s 29ms/step\n",
      "1/1 [==============================] - 0s 32ms/step\n",
      "1/1 [==============================] - 0s 36ms/step\n",
      "1/1 [==============================] - 0s 24ms/step\n",
      "1/1 [==============================] - 0s 22ms/step\n",
      "1/1 [==============================] - 0s 24ms/step\n",
      "1/1 [==============================] - 0s 32ms/step\n",
      "1/1 [==============================] - 0s 36ms/step\n",
      "1/1 [==============================] - 0s 29ms/step\n",
      "1/1 [==============================] - 0s 36ms/step\n",
      "1/1 [==============================] - 0s 24ms/step\n",
      "1/1 [==============================] - 0s 27ms/step\n",
      "1/1 [==============================] - 0s 32ms/step\n",
      "1/1 [==============================] - 0s 29ms/step\n",
      "1/1 [==============================] - 0s 29ms/step\n",
      "1/1 [==============================] - 0s 31ms/step\n"
     ]
    }
   ],
   "source": [
    "# Access the camera and check if the camera is opened successfully\n",
    "cap = cv2.VideoCapture(0)\n",
    "if not cap.isOpened():\n",
    "    print(\"Cannot access camera.\")\n",
    "    exit()\n",
    "\n",
    "# Create a holistic object for sign prediction\n",
    "with mp.solutions.holistic.Holistic(min_detection_confidence=0.75, min_tracking_confidence=0.75) as holistic:\n",
    "    # Run the loop while the camera is open\n",
    "    while cap.isOpened():\n",
    "        # Read a frame from the camera\n",
    "        _, image = cap.read()\n",
    "        # Process the image and obtain sign landmarks using image_process function from my_functions.py\n",
    "        results = image_process(image, holistic)\n",
    "        # Draw the sign landmarks on the image using draw_landmarks function from my_functions.py\n",
    "        draw_landmarks(image, results)\n",
    "        # Extract keypoints from the pose landmarks using keypoint_extraction function from my_functions.py\n",
    "        keypoints.append(keypoint_extraction(results))\n",
    "\n",
    "        # Check if frames have been accumulated\n",
    "        if len(keypoints) == 40:\n",
    "            # Convert keypoints list to a numpy array\n",
    "            keypoints = np.array(keypoints)\n",
    "            \n",
    "            # Make a prediction on the keypoints using the loaded mosdel\n",
    "            prediction = model.predict(keypoints[np.newaxis, :, :])\n",
    "            # Clear the keypoints list for the next set of frames\n",
    "            keypoints = []\n",
    "\n",
    "            # Check if the maximum prediction value is above 0.8\n",
    "            if np.amax(prediction) > 0.85:\n",
    "                # Check if the predicted sign is different from the previously predicted sign\n",
    "                if last_prediction != actions[np.argmax(prediction)]:\n",
    "                    # Append the predicted sign to the sentence list\n",
    "                    sentence.append(actions[np.argmax(prediction)])\n",
    "\n",
    "                     # Read aloud the predicted word\n",
    "                    engine.say(actions[np.argmax(prediction)])\n",
    "                    engine.runAndWait()\n",
    "                    \n",
    "                    # Record a new prediction to use it on the next cycle\n",
    "                    last_prediction = actions[np.argmax(prediction)]\n",
    "\n",
    "        # Limit the sentence length to 7 elements to make sure it fits on the screen\n",
    "        if len(sentence) > 5:\n",
    "            sentence = sentence[-5:]\n",
    "\n",
    "        if keyboard.is_pressed('enter'):\n",
    "            # Append the sentence to the text file\n",
    "            with open('predicted_sentences.txt', 'a') as file:\n",
    "                file.write(' '.join(sentence) + '\\n')\n",
    "            # Clear the sentence for the next set of predictions\n",
    "            sentence = []\n",
    "\n",
    "        # Reset if the \"Spacebar\" is pressed\n",
    "        if keyboard.is_pressed(' '):\n",
    "            sentence, keypoints, last_prediction = [], [], []\n",
    "\n",
    "        # Check if the list is not empty\n",
    "        if sentence:\n",
    "            # Capitalize the first word of the sentence\n",
    "            sentence[0] = sentence[0].capitalize()\n",
    "\n",
    "        # Check if the sentence has at least two elements\n",
    "        if len(sentence) >= 2:\n",
    "            # Check if the last element of the sentence belongs to the alphabet (lower or upper cases)\n",
    "            if sentence[-1] in string.ascii_lowercase or sentence[-1] in string.ascii_uppercase:\n",
    "                # Check if the second last element of sentence belongs to the alphabet or is a new word\n",
    "                if sentence[-2] in string.ascii_lowercase or sentence[-2] in string.ascii_uppercase or (sentence[-2] not in actions and sentence[-2] not in list(x.capitalize() for x in actions)):\n",
    "                    # Combine last two elements\n",
    "                    sentence[-1] = sentence[-2] + sentence[-1]\n",
    "                    sentence.pop(len(sentence) - 2)\n",
    "                    sentence[-1] = sentence[-1].capitalize()\n",
    "\n",
    "        # Calculate the size of the text to be displayed and the X coordinate for centering the text on the image\n",
    "        textsize = cv2.getTextSize(' '.join(sentence), cv2.FONT_HERSHEY_SIMPLEX, 1, 2)[0]\n",
    "        text_X_coord = (image.shape[1] - textsize[0]) // 2\n",
    "\n",
    "        # Draw the sentence on the image\n",
    "        for i, word in enumerate(sentence):\n",
    "            color = (0, 255, 0) if i == len(sentence) - 1 else (255, 255, 255)\n",
    "            cv2.putText(image, word, (text_X_coord, 470), cv2.FONT_HERSHEY_SIMPLEX, 1, color, 2, cv2.LINE_AA)\n",
    "            text_X_coord += cv2.getTextSize(word, cv2.FONT_HERSHEY_SIMPLEX, 1, 2)[0][0] + 10  # Add space between words\n",
    "\n",
    "\n",
    "        # Show the image on the display\n",
    "        cv2.imshow('Camera', image)\n",
    "        if cv2.waitKey(1) & 0xFF == 27:\n",
    "            break\n",
    "\n",
    "\n",
    "        # # Check if the 'Camera' window was closed and break the loop\n",
    "        # if cv2.getWindowProperty('Camera',cv2.WND_PROP_VISIBLE) < 1:\n",
    "        #     break\n",
    "\n",
    "    # Release the camera and close all windows\n",
    "    cap.release()\n",
    "    cv2.destroyAllWindows()\n"
   ]
  },
  {
   "cell_type": "code",
   "execution_count": 19,
   "id": "5bf23256-ad73-4169-a5cd-dba0273c4582",
   "metadata": {},
   "outputs": [],
   "source": [
    "cap.release()\n",
    "cv2.destroyAllWindows()"
   ]
  }
 ],
 "metadata": {
  "kernelspec": {
   "display_name": "Python 3 (ipykernel)",
   "language": "python",
   "name": "python3"
  },
  "language_info": {
   "codemirror_mode": {
    "name": "ipython",
    "version": 3
   },
   "file_extension": ".py",
   "mimetype": "text/x-python",
   "name": "python",
   "nbconvert_exporter": "python",
   "pygments_lexer": "ipython3",
   "version": "3.8.10"
  }
 },
 "nbformat": 4,
 "nbformat_minor": 5
}
