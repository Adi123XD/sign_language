{
 "cells": [
  {
   "cell_type": "code",
   "execution_count": 1,
   "id": "279cc1d6-7c4a-45e6-9b05-afbe80bf041b",
   "metadata": {},
   "outputs": [],
   "source": [
    "# Import necessary libraries\n",
    "import numpy as np\n",
    "import os\n",
    "from sklearn.model_selection import train_test_split\n",
    "from tensorflow.keras.utils import to_categorical\n",
    "from itertools import product\n",
    "from sklearn import metrics\n",
    "\n",
    "from tensorflow.keras.models import Sequential\n",
    "from tensorflow.keras.layers import LSTM, Dense,GRU,Conv1D,Activation,Flatten,Dropout,MaxPooling1D"
   ]
  },
  {
   "cell_type": "code",
   "execution_count": 2,
   "id": "419a8310-2cbf-44c4-8595-c84837f516da",
   "metadata": {},
   "outputs": [],
   "source": [
    "# Set the path to the data directory\n",
    "PATH = os.path.join('numbers_data')\n",
    "\n",
    "# Create an array of actions (signs) labels by listing the contents of the data directory\n",
    "actions = np.array(os.listdir(PATH))"
   ]
  },
  {
   "cell_type": "code",
   "execution_count": 3,
   "id": "3eaf3811-556e-4915-9c70-c30f4bc5cdc1",
   "metadata": {},
   "outputs": [
    {
     "data": {
      "text/plain": [
       "array(['1', '10', '2', '3', '4', '5', '6', '7', '8', '9'], dtype='<U2')"
      ]
     },
     "execution_count": 3,
     "metadata": {},
     "output_type": "execute_result"
    }
   ],
   "source": [
    "actions"
   ]
  },
  {
   "cell_type": "code",
   "execution_count": 4,
   "id": "0e0861b0-6cc6-4867-aa1b-9fbf5a93912d",
   "metadata": {},
   "outputs": [],
   "source": [
    "# Define the number of sequences and frames\n",
    "sequences = 30\n",
    "frames = 40\n"
   ]
  },
  {
   "cell_type": "code",
   "execution_count": 5,
   "id": "0babcdc2-8a0b-410c-9897-e3ba17ceb9c4",
   "metadata": {},
   "outputs": [],
   "source": [
    "# Create a label map to map each action label to a numeric value\n",
    "label_map = {label:num for num, label in enumerate(actions)}"
   ]
  },
  {
   "cell_type": "code",
   "execution_count": 6,
   "id": "b28afe88-d45a-46da-8014-7fb67c2b4c3f",
   "metadata": {},
   "outputs": [
    {
     "data": {
      "text/plain": [
       "{'1': 0,\n",
       " '10': 1,\n",
       " '2': 2,\n",
       " '3': 3,\n",
       " '4': 4,\n",
       " '5': 5,\n",
       " '6': 6,\n",
       " '7': 7,\n",
       " '8': 8,\n",
       " '9': 9}"
      ]
     },
     "execution_count": 6,
     "metadata": {},
     "output_type": "execute_result"
    }
   ],
   "source": [
    "label_map"
   ]
  },
  {
   "cell_type": "code",
   "execution_count": 7,
   "id": "256a910f-ba00-4cee-bcfd-7f148fa032be",
   "metadata": {},
   "outputs": [],
   "source": [
    "# Initialize empty lists to store landmarks and labels\n",
    "landmarks, labels = [], []\n",
    "\n",
    "# Iterate over actions and sequences to load landmarks and corresponding labels\n",
    "for action, sequence in product(actions, range(sequences)):\n",
    "    temp = []\n",
    "    for frame in range(frames):\n",
    "        npy = np.load(os.path.join(PATH, action, str(sequence), str(frame) + '.npy'))\n",
    "        temp.append(npy)\n",
    "    landmarks.append(temp)\n",
    "    labels.append(label_map[action])"
   ]
  },
  {
   "cell_type": "code",
   "execution_count": 8,
   "id": "90c5c59e-8f7f-4f98-b826-4968e802219f",
   "metadata": {},
   "outputs": [],
   "source": [
    "# Convert landmarks and labels to numpy arrays\n",
    "X, Y = np.array(landmarks), to_categorical(labels).astype(int)\n",
    "#Y is not one hot encoded"
   ]
  },
  {
   "cell_type": "code",
   "execution_count": 9,
   "id": "da3e5c9c-356e-4afd-aef4-76020b7f1443",
   "metadata": {},
   "outputs": [],
   "source": [
    "#Split the data into training and testing sets\n",
    "X_train, X_test, Y_train, Y_test = train_test_split(X, Y, test_size=0.10, random_state=34, stratify=Y)"
   ]
  },
  {
   "cell_type": "code",
   "execution_count": 10,
   "id": "26250961-2388-453b-a16e-a6b26fe8a7a4",
   "metadata": {},
   "outputs": [
    {
     "data": {
      "text/plain": [
       "(270, 40, 225)"
      ]
     },
     "execution_count": 10,
     "metadata": {},
     "output_type": "execute_result"
    }
   ],
   "source": [
    "X_train.shape"
   ]
  },
  {
   "cell_type": "code",
   "execution_count": 11,
   "id": "dcdfcda3-563b-46bf-a9f8-0e03342b0148",
   "metadata": {},
   "outputs": [
    {
     "data": {
      "text/plain": [
       "10"
      ]
     },
     "execution_count": 11,
     "metadata": {},
     "output_type": "execute_result"
    }
   ],
   "source": [
    "actions.shape[0]"
   ]
  },
  {
   "cell_type": "code",
   "execution_count": 25,
   "id": "68ce1174-6e42-48f1-ac66-570a0517adc0",
   "metadata": {},
   "outputs": [],
   "source": [
    "# Define the model architecture\n",
    "model = Sequential()\n",
    "# model.add(LSTM(32, return_sequences=True, activation='relu', input_shape=(frames,225)))\n",
    "model.add(Conv1D(32, 3, padding='same', input_shape=(frames,225)))\n",
    "model.add(Activation('relu'))\n",
    "model.add(Conv1D(32, 3))\n",
    "model.add(Activation('relu'))\n",
    "model.add(MaxPooling1D(pool_size=(2))) \n",
    "model.add(Dropout(0.25))\n",
    "\n",
    "model.add(Conv1D(64, 3, padding='same'))\n",
    "model.add(Activation('relu'))\n",
    "model.add(Conv1D(64, 3))\n",
    "model.add(Activation('relu'))\n",
    "model.add(MaxPooling1D(pool_size=(2)))\n",
    "model.add(Dropout(0.25))\n",
    "\n",
    "# Recurrent layers to integrate temporal information\n",
    "model.add(GRU(64, return_sequences=True))  \n",
    "model.add(GRU(32, return_sequences=False))\n",
    "\n",
    "# Fully-connected layers    \n",
    "model.add(Dense(64, activation='relu'))\n",
    "model.add(Dropout(0.4))\n",
    "# model.add(Dense(num_classes, activation='softmax'))\n",
    "model.add(Dense(actions.shape[0], activation='softmax'))\n"
   ]
  },
  {
   "cell_type": "code",
   "execution_count": 26,
   "id": "cdf3b2be-27bf-4fc6-9204-6542c47a7638",
   "metadata": {},
   "outputs": [],
   "source": [
    "# Compile the model with Adam optimizer and categorical cross-entropy loss\n",
    "model.compile(optimizer='Adam', loss='categorical_crossentropy', metrics=['categorical_accuracy'])"
   ]
  },
  {
   "cell_type": "code",
   "execution_count": 27,
   "id": "8643be41-1cc2-4d38-a05b-cf2b1227cd78",
   "metadata": {},
   "outputs": [
    {
     "name": "stdout",
     "output_type": "stream",
     "text": [
      "Epoch 1/200\n",
      "9/9 [==============================] - 5s 14ms/step - loss: 2.3186 - categorical_accuracy: 0.0963\n",
      "Epoch 2/200\n",
      "9/9 [==============================] - 0s 14ms/step - loss: 2.2471 - categorical_accuracy: 0.1444\n",
      "Epoch 3/200\n",
      "9/9 [==============================] - 0s 15ms/step - loss: 2.0860 - categorical_accuracy: 0.1889\n",
      "Epoch 4/200\n",
      "9/9 [==============================] - 0s 15ms/step - loss: 1.9556 - categorical_accuracy: 0.2000\n",
      "Epoch 5/200\n",
      "9/9 [==============================] - 0s 17ms/step - loss: 1.8889 - categorical_accuracy: 0.2296\n",
      "Epoch 6/200\n",
      "9/9 [==============================] - 0s 16ms/step - loss: 1.8317 - categorical_accuracy: 0.2444\n",
      "Epoch 7/200\n",
      "9/9 [==============================] - 0s 16ms/step - loss: 1.8297 - categorical_accuracy: 0.2074\n",
      "Epoch 8/200\n",
      "9/9 [==============================] - 0s 15ms/step - loss: 1.7718 - categorical_accuracy: 0.2370\n",
      "Epoch 9/200\n",
      "9/9 [==============================] - 0s 15ms/step - loss: 1.7704 - categorical_accuracy: 0.2148\n",
      "Epoch 10/200\n",
      "9/9 [==============================] - 0s 15ms/step - loss: 1.7329 - categorical_accuracy: 0.2444\n",
      "Epoch 11/200\n",
      "9/9 [==============================] - 0s 15ms/step - loss: 1.7741 - categorical_accuracy: 0.2074\n",
      "Epoch 12/200\n",
      "9/9 [==============================] - 0s 15ms/step - loss: 1.7495 - categorical_accuracy: 0.2444\n",
      "Epoch 13/200\n",
      "9/9 [==============================] - 0s 15ms/step - loss: 1.7353 - categorical_accuracy: 0.2556\n",
      "Epoch 14/200\n",
      "9/9 [==============================] - 0s 16ms/step - loss: 1.6974 - categorical_accuracy: 0.2444\n",
      "Epoch 15/200\n",
      "9/9 [==============================] - 0s 16ms/step - loss: 1.7026 - categorical_accuracy: 0.2444\n",
      "Epoch 16/200\n",
      "9/9 [==============================] - 0s 15ms/step - loss: 1.6655 - categorical_accuracy: 0.2815\n",
      "Epoch 17/200\n",
      "9/9 [==============================] - 0s 16ms/step - loss: 1.6094 - categorical_accuracy: 0.2963\n",
      "Epoch 18/200\n",
      "9/9 [==============================] - 0s 15ms/step - loss: 1.6018 - categorical_accuracy: 0.2667\n",
      "Epoch 19/200\n",
      "9/9 [==============================] - 0s 16ms/step - loss: 1.5940 - categorical_accuracy: 0.3037\n",
      "Epoch 20/200\n",
      "9/9 [==============================] - 0s 15ms/step - loss: 1.6036 - categorical_accuracy: 0.3148\n",
      "Epoch 21/200\n",
      "9/9 [==============================] - 0s 13ms/step - loss: 1.5033 - categorical_accuracy: 0.2926\n",
      "Epoch 22/200\n",
      "9/9 [==============================] - 0s 16ms/step - loss: 1.4778 - categorical_accuracy: 0.3222\n",
      "Epoch 23/200\n",
      "9/9 [==============================] - 0s 16ms/step - loss: 1.5089 - categorical_accuracy: 0.3370\n",
      "Epoch 24/200\n",
      "9/9 [==============================] - 0s 16ms/step - loss: 1.4784 - categorical_accuracy: 0.3148\n",
      "Epoch 25/200\n",
      "9/9 [==============================] - 0s 13ms/step - loss: 1.4181 - categorical_accuracy: 0.3852\n",
      "Epoch 26/200\n",
      "9/9 [==============================] - 0s 16ms/step - loss: 1.3987 - categorical_accuracy: 0.3778\n",
      "Epoch 27/200\n",
      "9/9 [==============================] - 0s 14ms/step - loss: 1.3958 - categorical_accuracy: 0.4037\n",
      "Epoch 28/200\n",
      "9/9 [==============================] - 0s 15ms/step - loss: 1.3123 - categorical_accuracy: 0.4111\n",
      "Epoch 29/200\n",
      "9/9 [==============================] - 0s 15ms/step - loss: 1.2543 - categorical_accuracy: 0.4444\n",
      "Epoch 30/200\n",
      "9/9 [==============================] - 0s 15ms/step - loss: 1.1973 - categorical_accuracy: 0.5074\n",
      "Epoch 31/200\n",
      "9/9 [==============================] - 0s 15ms/step - loss: 1.0890 - categorical_accuracy: 0.5556\n",
      "Epoch 32/200\n",
      "9/9 [==============================] - 0s 15ms/step - loss: 1.1140 - categorical_accuracy: 0.5037\n",
      "Epoch 33/200\n",
      "9/9 [==============================] - 0s 16ms/step - loss: 1.1831 - categorical_accuracy: 0.5148\n",
      "Epoch 34/200\n",
      "9/9 [==============================] - 0s 14ms/step - loss: 0.9988 - categorical_accuracy: 0.5889\n",
      "Epoch 35/200\n",
      "9/9 [==============================] - 0s 16ms/step - loss: 0.9884 - categorical_accuracy: 0.6111\n",
      "Epoch 36/200\n",
      "9/9 [==============================] - 0s 16ms/step - loss: 0.9095 - categorical_accuracy: 0.6778\n",
      "Epoch 37/200\n",
      "9/9 [==============================] - 0s 16ms/step - loss: 0.8373 - categorical_accuracy: 0.6815\n",
      "Epoch 38/200\n",
      "9/9 [==============================] - 0s 17ms/step - loss: 0.7976 - categorical_accuracy: 0.6741\n",
      "Epoch 39/200\n",
      "9/9 [==============================] - 0s 14ms/step - loss: 0.7903 - categorical_accuracy: 0.7111\n",
      "Epoch 40/200\n",
      "9/9 [==============================] - 0s 15ms/step - loss: 0.8880 - categorical_accuracy: 0.6704\n",
      "Epoch 41/200\n",
      "9/9 [==============================] - 0s 15ms/step - loss: 0.8343 - categorical_accuracy: 0.6778\n",
      "Epoch 42/200\n",
      "9/9 [==============================] - 0s 15ms/step - loss: 1.0447 - categorical_accuracy: 0.5926\n",
      "Epoch 43/200\n",
      "9/9 [==============================] - 0s 16ms/step - loss: 0.8803 - categorical_accuracy: 0.6185\n",
      "Epoch 44/200\n",
      "9/9 [==============================] - 0s 16ms/step - loss: 0.8102 - categorical_accuracy: 0.6963\n",
      "Epoch 45/200\n",
      "9/9 [==============================] - 0s 16ms/step - loss: 0.6529 - categorical_accuracy: 0.7519\n",
      "Epoch 46/200\n",
      "9/9 [==============================] - 0s 15ms/step - loss: 0.6154 - categorical_accuracy: 0.7889\n",
      "Epoch 47/200\n",
      "9/9 [==============================] - 0s 15ms/step - loss: 0.5581 - categorical_accuracy: 0.8000\n",
      "Epoch 48/200\n",
      "9/9 [==============================] - 0s 15ms/step - loss: 0.6094 - categorical_accuracy: 0.7556\n",
      "Epoch 49/200\n",
      "9/9 [==============================] - 0s 16ms/step - loss: 0.5763 - categorical_accuracy: 0.7889\n",
      "Epoch 50/200\n",
      "9/9 [==============================] - 0s 14ms/step - loss: 0.5576 - categorical_accuracy: 0.8074\n",
      "Epoch 51/200\n",
      "9/9 [==============================] - 0s 15ms/step - loss: 0.5077 - categorical_accuracy: 0.7963\n",
      "Epoch 52/200\n",
      "9/9 [==============================] - 0s 14ms/step - loss: 0.5554 - categorical_accuracy: 0.8074\n",
      "Epoch 53/200\n",
      "9/9 [==============================] - 0s 14ms/step - loss: 0.5181 - categorical_accuracy: 0.8000\n",
      "Epoch 54/200\n",
      "9/9 [==============================] - 0s 14ms/step - loss: 0.4639 - categorical_accuracy: 0.8296\n",
      "Epoch 55/200\n",
      "9/9 [==============================] - 0s 14ms/step - loss: 0.3781 - categorical_accuracy: 0.8556\n",
      "Epoch 56/200\n",
      "9/9 [==============================] - 0s 14ms/step - loss: 0.3570 - categorical_accuracy: 0.8926\n",
      "Epoch 57/200\n",
      "9/9 [==============================] - 0s 14ms/step - loss: 0.3895 - categorical_accuracy: 0.8704\n",
      "Epoch 58/200\n",
      "9/9 [==============================] - 0s 14ms/step - loss: 0.3502 - categorical_accuracy: 0.8556\n",
      "Epoch 59/200\n",
      "9/9 [==============================] - 0s 14ms/step - loss: 0.3422 - categorical_accuracy: 0.8630\n",
      "Epoch 60/200\n",
      "9/9 [==============================] - 0s 14ms/step - loss: 0.3579 - categorical_accuracy: 0.8593\n",
      "Epoch 61/200\n",
      "9/9 [==============================] - 0s 15ms/step - loss: 0.4635 - categorical_accuracy: 0.8037\n",
      "Epoch 62/200\n",
      "9/9 [==============================] - 0s 14ms/step - loss: 0.3567 - categorical_accuracy: 0.8630\n",
      "Epoch 63/200\n",
      "9/9 [==============================] - 0s 13ms/step - loss: 0.3795 - categorical_accuracy: 0.8593\n",
      "Epoch 64/200\n",
      "9/9 [==============================] - 0s 14ms/step - loss: 0.3098 - categorical_accuracy: 0.8852\n",
      "Epoch 65/200\n",
      "9/9 [==============================] - 0s 14ms/step - loss: 0.4080 - categorical_accuracy: 0.8222\n",
      "Epoch 66/200\n",
      "9/9 [==============================] - 0s 14ms/step - loss: 0.3035 - categorical_accuracy: 0.8593\n",
      "Epoch 67/200\n",
      "9/9 [==============================] - 0s 14ms/step - loss: 0.3364 - categorical_accuracy: 0.8593\n",
      "Epoch 68/200\n",
      "9/9 [==============================] - 0s 14ms/step - loss: 0.3342 - categorical_accuracy: 0.8593\n",
      "Epoch 69/200\n",
      "9/9 [==============================] - 0s 14ms/step - loss: 0.4428 - categorical_accuracy: 0.8259\n",
      "Epoch 70/200\n",
      "9/9 [==============================] - 0s 14ms/step - loss: 0.3762 - categorical_accuracy: 0.8630\n",
      "Epoch 71/200\n",
      "9/9 [==============================] - 0s 14ms/step - loss: 0.2986 - categorical_accuracy: 0.8704\n",
      "Epoch 72/200\n",
      "9/9 [==============================] - 0s 14ms/step - loss: 0.2996 - categorical_accuracy: 0.8630\n",
      "Epoch 73/200\n",
      "9/9 [==============================] - 0s 19ms/step - loss: 0.3210 - categorical_accuracy: 0.8630\n",
      "Epoch 74/200\n",
      "9/9 [==============================] - 0s 19ms/step - loss: 0.3176 - categorical_accuracy: 0.8889\n",
      "Epoch 75/200\n",
      "9/9 [==============================] - 0s 15ms/step - loss: 0.3506 - categorical_accuracy: 0.8481\n",
      "Epoch 76/200\n",
      "9/9 [==============================] - 0s 14ms/step - loss: 0.2786 - categorical_accuracy: 0.8815\n",
      "Epoch 77/200\n",
      "9/9 [==============================] - 0s 14ms/step - loss: 0.4086 - categorical_accuracy: 0.8519\n",
      "Epoch 78/200\n",
      "9/9 [==============================] - 0s 15ms/step - loss: 0.4885 - categorical_accuracy: 0.8148\n",
      "Epoch 79/200\n",
      "9/9 [==============================] - 0s 14ms/step - loss: 0.4459 - categorical_accuracy: 0.8296\n",
      "Epoch 80/200\n",
      "9/9 [==============================] - 0s 16ms/step - loss: 0.3970 - categorical_accuracy: 0.8481\n",
      "Epoch 81/200\n",
      "9/9 [==============================] - 0s 14ms/step - loss: 0.2697 - categorical_accuracy: 0.8852\n",
      "Epoch 82/200\n",
      "9/9 [==============================] - 0s 14ms/step - loss: 0.2709 - categorical_accuracy: 0.9000\n",
      "Epoch 83/200\n",
      "9/9 [==============================] - 0s 15ms/step - loss: 0.2746 - categorical_accuracy: 0.8778\n",
      "Epoch 84/200\n",
      "9/9 [==============================] - 0s 14ms/step - loss: 0.2816 - categorical_accuracy: 0.8593\n",
      "Epoch 85/200\n",
      "9/9 [==============================] - 0s 14ms/step - loss: 0.3047 - categorical_accuracy: 0.8741\n",
      "Epoch 86/200\n",
      "9/9 [==============================] - 0s 14ms/step - loss: 0.3064 - categorical_accuracy: 0.8778\n",
      "Epoch 87/200\n",
      "9/9 [==============================] - 0s 15ms/step - loss: 0.2855 - categorical_accuracy: 0.8852\n",
      "Epoch 88/200\n",
      "9/9 [==============================] - 0s 14ms/step - loss: 0.2824 - categorical_accuracy: 0.8667\n",
      "Epoch 89/200\n",
      "9/9 [==============================] - 0s 15ms/step - loss: 0.2531 - categorical_accuracy: 0.8963\n",
      "Epoch 90/200\n",
      "9/9 [==============================] - 0s 14ms/step - loss: 0.2676 - categorical_accuracy: 0.8815\n",
      "Epoch 91/200\n",
      "9/9 [==============================] - 0s 14ms/step - loss: 0.2442 - categorical_accuracy: 0.9074\n",
      "Epoch 92/200\n",
      "9/9 [==============================] - 0s 14ms/step - loss: 0.2811 - categorical_accuracy: 0.8667\n",
      "Epoch 93/200\n",
      "9/9 [==============================] - 0s 15ms/step - loss: 0.2532 - categorical_accuracy: 0.9037\n",
      "Epoch 94/200\n",
      "9/9 [==============================] - 0s 16ms/step - loss: 0.2426 - categorical_accuracy: 0.8778\n",
      "Epoch 95/200\n",
      "9/9 [==============================] - 0s 17ms/step - loss: 0.2526 - categorical_accuracy: 0.8815\n",
      "Epoch 96/200\n",
      "9/9 [==============================] - 0s 17ms/step - loss: 0.3899 - categorical_accuracy: 0.8444\n",
      "Epoch 97/200\n",
      "9/9 [==============================] - 0s 18ms/step - loss: 0.3827 - categorical_accuracy: 0.8741\n",
      "Epoch 98/200\n",
      "9/9 [==============================] - 0s 20ms/step - loss: 0.3987 - categorical_accuracy: 0.8481\n",
      "Epoch 99/200\n",
      "9/9 [==============================] - 0s 19ms/step - loss: 0.3702 - categorical_accuracy: 0.8556\n",
      "Epoch 100/200\n",
      "9/9 [==============================] - 0s 20ms/step - loss: 0.3928 - categorical_accuracy: 0.8407\n",
      "Epoch 101/200\n",
      "9/9 [==============================] - 0s 19ms/step - loss: 0.3196 - categorical_accuracy: 0.8556\n",
      "Epoch 102/200\n",
      "9/9 [==============================] - 0s 19ms/step - loss: 0.3557 - categorical_accuracy: 0.8481\n",
      "Epoch 103/200\n",
      "9/9 [==============================] - 0s 19ms/step - loss: 0.2340 - categorical_accuracy: 0.9222\n",
      "Epoch 104/200\n",
      "9/9 [==============================] - 0s 20ms/step - loss: 0.2473 - categorical_accuracy: 0.8926\n",
      "Epoch 105/200\n",
      "9/9 [==============================] - 0s 20ms/step - loss: 0.2188 - categorical_accuracy: 0.9333\n",
      "Epoch 106/200\n",
      "9/9 [==============================] - 0s 19ms/step - loss: 0.2003 - categorical_accuracy: 0.9296\n",
      "Epoch 107/200\n",
      "9/9 [==============================] - 0s 19ms/step - loss: 0.2281 - categorical_accuracy: 0.8963\n",
      "Epoch 108/200\n",
      "9/9 [==============================] - 0s 24ms/step - loss: 0.2056 - categorical_accuracy: 0.9296\n",
      "Epoch 109/200\n",
      "9/9 [==============================] - 0s 25ms/step - loss: 0.2124 - categorical_accuracy: 0.8889\n",
      "Epoch 110/200\n",
      "9/9 [==============================] - 0s 25ms/step - loss: 0.1804 - categorical_accuracy: 0.9148\n",
      "Epoch 111/200\n",
      "9/9 [==============================] - 0s 25ms/step - loss: 0.2098 - categorical_accuracy: 0.9370\n",
      "Epoch 112/200\n",
      "9/9 [==============================] - 0s 19ms/step - loss: 0.1771 - categorical_accuracy: 0.9333\n",
      "Epoch 113/200\n",
      "9/9 [==============================] - 0s 19ms/step - loss: 0.1651 - categorical_accuracy: 0.9370\n",
      "Epoch 114/200\n",
      "9/9 [==============================] - 0s 19ms/step - loss: 0.1847 - categorical_accuracy: 0.9333\n",
      "Epoch 115/200\n",
      "9/9 [==============================] - 0s 19ms/step - loss: 0.1729 - categorical_accuracy: 0.9222\n",
      "Epoch 116/200\n",
      "9/9 [==============================] - 0s 19ms/step - loss: 0.1764 - categorical_accuracy: 0.9222\n",
      "Epoch 117/200\n",
      "9/9 [==============================] - 0s 18ms/step - loss: 0.2062 - categorical_accuracy: 0.9222\n",
      "Epoch 118/200\n",
      "9/9 [==============================] - 0s 19ms/step - loss: 0.1863 - categorical_accuracy: 0.9259\n",
      "Epoch 119/200\n",
      "9/9 [==============================] - 0s 19ms/step - loss: 0.1757 - categorical_accuracy: 0.9407\n",
      "Epoch 120/200\n",
      "9/9 [==============================] - 0s 19ms/step - loss: 0.1652 - categorical_accuracy: 0.9444\n",
      "Epoch 121/200\n",
      "9/9 [==============================] - 0s 19ms/step - loss: 0.1640 - categorical_accuracy: 0.9333\n",
      "Epoch 122/200\n",
      "9/9 [==============================] - 0s 19ms/step - loss: 0.1539 - categorical_accuracy: 0.9407\n",
      "Epoch 123/200\n",
      "9/9 [==============================] - 0s 19ms/step - loss: 0.1804 - categorical_accuracy: 0.9407\n",
      "Epoch 124/200\n",
      "9/9 [==============================] - 0s 19ms/step - loss: 0.2024 - categorical_accuracy: 0.9222\n",
      "Epoch 125/200\n",
      "9/9 [==============================] - 0s 19ms/step - loss: 0.1944 - categorical_accuracy: 0.9296\n",
      "Epoch 126/200\n",
      "9/9 [==============================] - 0s 19ms/step - loss: 0.1370 - categorical_accuracy: 0.9481\n",
      "Epoch 127/200\n",
      "9/9 [==============================] - 0s 19ms/step - loss: 0.1555 - categorical_accuracy: 0.9481\n",
      "Epoch 128/200\n",
      "9/9 [==============================] - 0s 19ms/step - loss: 0.1305 - categorical_accuracy: 0.9593\n",
      "Epoch 129/200\n",
      "9/9 [==============================] - 0s 20ms/step - loss: 0.1986 - categorical_accuracy: 0.9259\n",
      "Epoch 130/200\n",
      "9/9 [==============================] - 0s 19ms/step - loss: 0.1887 - categorical_accuracy: 0.9481\n",
      "Epoch 131/200\n",
      "9/9 [==============================] - 0s 19ms/step - loss: 0.2215 - categorical_accuracy: 0.9222\n",
      "Epoch 132/200\n",
      "9/9 [==============================] - 0s 19ms/step - loss: 0.1806 - categorical_accuracy: 0.9407\n",
      "Epoch 133/200\n",
      "9/9 [==============================] - 0s 19ms/step - loss: 0.3084 - categorical_accuracy: 0.8704\n",
      "Epoch 134/200\n",
      "9/9 [==============================] - 0s 19ms/step - loss: 0.3366 - categorical_accuracy: 0.8926\n",
      "Epoch 135/200\n",
      "9/9 [==============================] - 0s 19ms/step - loss: 0.2639 - categorical_accuracy: 0.9037\n",
      "Epoch 136/200\n",
      "9/9 [==============================] - 0s 19ms/step - loss: 0.1964 - categorical_accuracy: 0.9074\n",
      "Epoch 137/200\n",
      "9/9 [==============================] - 0s 19ms/step - loss: 0.1144 - categorical_accuracy: 0.9519\n",
      "Epoch 138/200\n",
      "9/9 [==============================] - 0s 19ms/step - loss: 0.1459 - categorical_accuracy: 0.9407\n",
      "Epoch 139/200\n",
      "9/9 [==============================] - 0s 19ms/step - loss: 0.1691 - categorical_accuracy: 0.9444\n",
      "Epoch 140/200\n",
      "9/9 [==============================] - 0s 20ms/step - loss: 0.1862 - categorical_accuracy: 0.9148\n",
      "Epoch 141/200\n",
      "9/9 [==============================] - 0s 20ms/step - loss: 0.1848 - categorical_accuracy: 0.9370\n",
      "Epoch 142/200\n",
      "9/9 [==============================] - 0s 20ms/step - loss: 0.3340 - categorical_accuracy: 0.8889\n",
      "Epoch 143/200\n",
      "9/9 [==============================] - 0s 19ms/step - loss: 0.2911 - categorical_accuracy: 0.9111\n",
      "Epoch 144/200\n",
      "9/9 [==============================] - 0s 19ms/step - loss: 0.2212 - categorical_accuracy: 0.9296\n",
      "Epoch 145/200\n",
      "9/9 [==============================] - 0s 18ms/step - loss: 0.1645 - categorical_accuracy: 0.9370\n",
      "Epoch 146/200\n",
      "9/9 [==============================] - 0s 18ms/step - loss: 0.1921 - categorical_accuracy: 0.9296\n",
      "Epoch 147/200\n",
      "9/9 [==============================] - 0s 18ms/step - loss: 0.1193 - categorical_accuracy: 0.9593\n",
      "Epoch 148/200\n",
      "9/9 [==============================] - 0s 18ms/step - loss: 0.1591 - categorical_accuracy: 0.9556\n",
      "Epoch 149/200\n",
      "9/9 [==============================] - 0s 18ms/step - loss: 0.2073 - categorical_accuracy: 0.9111\n",
      "Epoch 150/200\n",
      "9/9 [==============================] - 0s 18ms/step - loss: 0.2136 - categorical_accuracy: 0.9259\n",
      "Epoch 151/200\n",
      "9/9 [==============================] - 0s 18ms/step - loss: 0.1405 - categorical_accuracy: 0.9481\n",
      "Epoch 152/200\n",
      "9/9 [==============================] - 0s 18ms/step - loss: 0.1573 - categorical_accuracy: 0.9296\n",
      "Epoch 153/200\n",
      "9/9 [==============================] - 0s 18ms/step - loss: 0.2120 - categorical_accuracy: 0.9259\n",
      "Epoch 154/200\n",
      "9/9 [==============================] - 0s 18ms/step - loss: 0.1693 - categorical_accuracy: 0.9407\n",
      "Epoch 155/200\n",
      "9/9 [==============================] - 0s 18ms/step - loss: 0.1760 - categorical_accuracy: 0.9370\n",
      "Epoch 156/200\n",
      "9/9 [==============================] - 0s 21ms/step - loss: 0.1413 - categorical_accuracy: 0.9481\n",
      "Epoch 157/200\n",
      "9/9 [==============================] - 0s 30ms/step - loss: 0.1485 - categorical_accuracy: 0.9519\n",
      "Epoch 158/200\n",
      "9/9 [==============================] - 0s 20ms/step - loss: 0.1405 - categorical_accuracy: 0.9444\n",
      "Epoch 159/200\n",
      "9/9 [==============================] - 0s 19ms/step - loss: 0.1187 - categorical_accuracy: 0.9444\n",
      "Epoch 160/200\n",
      "9/9 [==============================] - 0s 20ms/step - loss: 0.1058 - categorical_accuracy: 0.9593\n",
      "Epoch 161/200\n",
      "9/9 [==============================] - 0s 20ms/step - loss: 0.1270 - categorical_accuracy: 0.9519\n",
      "Epoch 162/200\n",
      "9/9 [==============================] - 0s 20ms/step - loss: 0.1151 - categorical_accuracy: 0.9593\n",
      "Epoch 163/200\n",
      "9/9 [==============================] - 0s 28ms/step - loss: 0.2288 - categorical_accuracy: 0.9370\n",
      "Epoch 164/200\n",
      "9/9 [==============================] - 0s 31ms/step - loss: 0.0802 - categorical_accuracy: 0.9778\n",
      "Epoch 165/200\n",
      "9/9 [==============================] - 0s 22ms/step - loss: 0.1064 - categorical_accuracy: 0.9630\n",
      "Epoch 166/200\n",
      "9/9 [==============================] - 0s 22ms/step - loss: 0.0898 - categorical_accuracy: 0.9778\n",
      "Epoch 167/200\n",
      "9/9 [==============================] - 0s 19ms/step - loss: 0.0803 - categorical_accuracy: 0.9778\n",
      "Epoch 168/200\n",
      "9/9 [==============================] - 0s 19ms/step - loss: 0.0737 - categorical_accuracy: 0.9778\n",
      "Epoch 169/200\n",
      "9/9 [==============================] - 0s 20ms/step - loss: 0.1042 - categorical_accuracy: 0.9630\n",
      "Epoch 170/200\n",
      "9/9 [==============================] - 0s 19ms/step - loss: 0.0520 - categorical_accuracy: 0.9926\n",
      "Epoch 171/200\n",
      "9/9 [==============================] - 0s 19ms/step - loss: 0.0644 - categorical_accuracy: 0.9815\n",
      "Epoch 172/200\n",
      "9/9 [==============================] - 0s 19ms/step - loss: 0.0562 - categorical_accuracy: 0.9852\n",
      "Epoch 173/200\n",
      "9/9 [==============================] - 0s 18ms/step - loss: 0.0707 - categorical_accuracy: 0.9741\n",
      "Epoch 174/200\n",
      "9/9 [==============================] - 0s 19ms/step - loss: 0.0569 - categorical_accuracy: 0.9852\n",
      "Epoch 175/200\n",
      "9/9 [==============================] - 0s 18ms/step - loss: 0.0708 - categorical_accuracy: 0.9741\n",
      "Epoch 176/200\n",
      "9/9 [==============================] - 0s 18ms/step - loss: 0.0509 - categorical_accuracy: 0.9852\n",
      "Epoch 177/200\n",
      "9/9 [==============================] - 0s 18ms/step - loss: 0.0601 - categorical_accuracy: 0.9852\n",
      "Epoch 178/200\n",
      "9/9 [==============================] - 0s 17ms/step - loss: 0.0759 - categorical_accuracy: 0.9815\n",
      "Epoch 179/200\n",
      "9/9 [==============================] - 0s 18ms/step - loss: 0.1162 - categorical_accuracy: 0.9593\n",
      "Epoch 180/200\n",
      "9/9 [==============================] - 0s 19ms/step - loss: 0.1153 - categorical_accuracy: 0.9593\n",
      "Epoch 181/200\n",
      "9/9 [==============================] - 0s 18ms/step - loss: 0.0665 - categorical_accuracy: 0.9815\n",
      "Epoch 182/200\n",
      "9/9 [==============================] - 0s 21ms/step - loss: 0.0934 - categorical_accuracy: 0.9667\n",
      "Epoch 183/200\n",
      "9/9 [==============================] - 0s 18ms/step - loss: 0.0724 - categorical_accuracy: 0.9852\n",
      "Epoch 184/200\n",
      "9/9 [==============================] - 0s 17ms/step - loss: 0.0497 - categorical_accuracy: 0.9963\n",
      "Epoch 185/200\n",
      "9/9 [==============================] - 0s 16ms/step - loss: 0.0421 - categorical_accuracy: 0.9926\n",
      "Epoch 186/200\n",
      "9/9 [==============================] - 0s 17ms/step - loss: 0.0510 - categorical_accuracy: 0.9889\n",
      "Epoch 187/200\n",
      "9/9 [==============================] - 0s 17ms/step - loss: 0.0716 - categorical_accuracy: 0.9815\n",
      "Epoch 188/200\n",
      "9/9 [==============================] - 0s 16ms/step - loss: 0.0578 - categorical_accuracy: 0.9926\n",
      "Epoch 189/200\n",
      "9/9 [==============================] - 0s 16ms/step - loss: 0.0951 - categorical_accuracy: 0.9741\n",
      "Epoch 190/200\n",
      "9/9 [==============================] - 0s 16ms/step - loss: 0.1687 - categorical_accuracy: 0.9407\n",
      "Epoch 191/200\n",
      "9/9 [==============================] - 0s 16ms/step - loss: 0.1140 - categorical_accuracy: 0.9667\n",
      "Epoch 192/200\n",
      "9/9 [==============================] - 0s 16ms/step - loss: 0.2428 - categorical_accuracy: 0.9481\n",
      "Epoch 193/200\n",
      "9/9 [==============================] - 0s 15ms/step - loss: 0.2723 - categorical_accuracy: 0.9074\n",
      "Epoch 194/200\n",
      "9/9 [==============================] - 0s 15ms/step - loss: 0.5052 - categorical_accuracy: 0.8593\n",
      "Epoch 195/200\n",
      "9/9 [==============================] - 0s 15ms/step - loss: 0.4183 - categorical_accuracy: 0.8852\n",
      "Epoch 196/200\n",
      "9/9 [==============================] - 0s 15ms/step - loss: 0.2948 - categorical_accuracy: 0.9037\n",
      "Epoch 197/200\n",
      "9/9 [==============================] - 0s 15ms/step - loss: 0.5318 - categorical_accuracy: 0.8111\n",
      "Epoch 198/200\n",
      "9/9 [==============================] - 0s 15ms/step - loss: 0.2626 - categorical_accuracy: 0.9037\n",
      "Epoch 199/200\n",
      "9/9 [==============================] - 0s 15ms/step - loss: 0.5219 - categorical_accuracy: 0.8593\n",
      "Epoch 200/200\n",
      "9/9 [==============================] - 0s 15ms/step - loss: 0.5069 - categorical_accuracy: 0.8704\n"
     ]
    }
   ],
   "source": [
    "from tensorflow.keras.callbacks import EarlyStopping\n",
    "\n",
    "# Define the EarlyStopping callback\n",
    "early_stopping = EarlyStopping(monitor='loss', patience=10, restore_best_weights=True)\n",
    "\n",
    "# Train the model with early stopping\n",
    "history = model.fit(X_train, Y_train, epochs=200)"
   ]
  },
  {
   "cell_type": "code",
   "execution_count": 28,
   "id": "87101c75-b5f5-471c-b871-acc89534f105",
   "metadata": {},
   "outputs": [
    {
     "data": {
      "image/png": "[encoded data removed]",
      "text/plain": [
       "<Figure size 640x480 with 2 Axes>"
      ]
     },
     "metadata": {},
     "output_type": "display_data"
    }
   ],
   "source": [
    "import matplotlib.pyplot as plt\n",
    "plt.subplot(1, 2, 1)\n",
    "plt.plot(history.history['loss'])\n",
    "plt.xlabel(\"Epochs\")\n",
    "plt.ylabel(\"Loss\")\n",
    "plt.title(\"Loss vs. Epochs\")\n",
    "\n",
    "# Subplot 2: Accuracy vs. Epochs\n",
    "plt.subplot(1, 2, 2)\n",
    "plt.plot(history.history['categorical_accuracy'])\n",
    "plt.xlabel(\"Epochs\")\n",
    "plt.ylabel(\"Categorical Accuracy\")\n",
    "plt.title(\"Accuracy vs. Epochs\")\n",
    "\n",
    "plt.tight_layout()  # Adjust layout to prevent overlapping\n",
    "plt.show()"
   ]
  },
  {
   "cell_type": "code",
   "execution_count": 29,
   "id": "58e69b2f-d5ff-4517-8ce3-63e1292b3d4d",
   "metadata": {},
   "outputs": [
    {
     "name": "stdout",
     "output_type": "stream",
     "text": [
      "INFO:tensorflow:Assets written to: numbers_model\\assets\n"
     ]
    },
    {
     "name": "stderr",
     "output_type": "stream",
     "text": [
      "INFO:tensorflow:Assets written to: numbers_model\\assets\n"
     ]
    }
   ],
   "source": [
    "#Save the trained model \n",
    "model.save('numbers_model')"
   ]
  },
  {
   "cell_type": "code",
   "execution_count": 30,
   "id": "f28acf25-b167-4f06-9afa-ef2660855f06",
   "metadata": {},
   "outputs": [
    {
     "name": "stdout",
     "output_type": "stream",
     "text": [
      "1/1 [==============================] - 1s 552ms/step\n"
     ]
    }
   ],
   "source": [
    "# Make predictions on the test set\n",
    "predictions = np.argmax(model.predict(X_test), axis=1)\n",
    "# Get the true labels from the test set\n",
    "test_labels = np.argmax(Y_test, axis=1)\n",
    "\n",
    "# Calculate the accuracy of the predictions\n",
    "accuracy = metrics.accuracy_score(test_labels, predictions)\n"
   ]
  },
  {
   "cell_type": "code",
   "execution_count": 31,
   "id": "e3b41167-cc64-4abc-ab90-086730a5e61f",
   "metadata": {},
   "outputs": [
    {
     "data": {
      "text/plain": [
       "array([7, 6, 8, 2, 2, 4, 3, 6, 2, 1, 9, 3, 5, 7, 3, 9, 8, 8, 2, 0, 9, 6,\n",
       "       4, 5, 6, 1, 2, 1, 0, 6], dtype=int64)"
      ]
     },
     "execution_count": 31,
     "metadata": {},
     "output_type": "execute_result"
    }
   ],
   "source": [
    "predictions"
   ]
  },
  {
   "cell_type": "code",
   "execution_count": 32,
   "id": "77cf0b4a-b40d-46e9-a4b2-af5884ec178c",
   "metadata": {},
   "outputs": [
    {
     "data": {
      "text/plain": [
       "array([7, 6, 8, 2, 4, 4, 8, 6, 9, 1, 9, 3, 5, 7, 3, 9, 3, 8, 2, 0, 7, 0,\n",
       "       4, 5, 6, 1, 2, 1, 5, 0], dtype=int64)"
      ]
     },
     "execution_count": 32,
     "metadata": {},
     "output_type": "execute_result"
    }
   ],
   "source": [
    "test_labels"
   ]
  },
  {
   "cell_type": "code",
   "execution_count": 33,
   "id": "03ce5f39-f213-43e9-b283-59fb538ca61e",
   "metadata": {},
   "outputs": [
    {
     "data": {
      "text/plain": [
       "0.7333333333333333"
      ]
     },
     "execution_count": 33,
     "metadata": {},
     "output_type": "execute_result"
    }
   ],
   "source": [
    "accuracy"
   ]
  },
  {
   "cell_type": "code",
   "execution_count": 34,
   "id": "339a6f73-3c77-4443-bfef-e8734257ce65",
   "metadata": {},
   "outputs": [
    {
     "data": {
      "text/plain": [
       "(270, 40, 225)"
      ]
     },
     "execution_count": 34,
     "metadata": {},
     "output_type": "execute_result"
    }
   ],
   "source": [
    "X_train.shape"
   ]
  },
  {
   "cell_type": "code",
   "execution_count": 35,
   "id": "1dd54101-9ef5-4383-bd7c-29bc895d7b3c",
   "metadata": {},
   "outputs": [
    {
     "name": "stdout",
     "output_type": "stream",
     "text": [
      "Model: \"sequential_1\"\n",
      "_________________________________________________________________\n",
      " Layer (type)                Output Shape              Param #   \n",
      "=================================================================\n",
      " conv1d_4 (Conv1D)           (None, 40, 32)            21632     \n",
      "                                                                 \n",
      " activation_4 (Activation)   (None, 40, 32)            0         \n",
      "                                                                 \n",
      " conv1d_5 (Conv1D)           (None, 38, 32)            3104      \n",
      "                                                                 \n",
      " activation_5 (Activation)   (None, 38, 32)            0         \n",
      "                                                                 \n",
      " max_pooling1d_2 (MaxPoolin  (None, 19, 32)            0         \n",
      " g1D)                                                            \n",
      "                                                                 \n",
      " dropout_3 (Dropout)         (None, 19, 32)            0         \n",
      "                                                                 \n",
      " conv1d_6 (Conv1D)           (None, 19, 64)            6208      \n",
      "                                                                 \n",
      " activation_6 (Activation)   (None, 19, 64)            0         \n",
      "                                                                 \n",
      " conv1d_7 (Conv1D)           (None, 17, 64)            12352     \n",
      "                                                                 \n",
      " activation_7 (Activation)   (None, 17, 64)            0         \n",
      "                                                                 \n",
      " max_pooling1d_3 (MaxPoolin  (None, 8, 64)             0         \n",
      " g1D)                                                            \n",
      "                                                                 \n",
      " dropout_4 (Dropout)         (None, 8, 64)             0         \n",
      "                                                                 \n",
      " gru_2 (GRU)                 (None, 8, 64)             24960     \n",
      "                                                                 \n",
      " gru_3 (GRU)                 (None, 32)                9408      \n",
      "                                                                 \n",
      " dense_2 (Dense)             (None, 64)                2112      \n",
      "                                                                 \n",
      " dropout_5 (Dropout)         (None, 64)                0         \n",
      "                                                                 \n",
      " dense_3 (Dense)             (None, 10)                650       \n",
      "                                                                 \n",
      "=================================================================\n",
      "Total params: 80426 (314.16 KB)\n",
      "Trainable params: 80426 (314.16 KB)\n",
      "Non-trainable params: 0 (0.00 Byte)\n",
      "_________________________________________________________________\n"
     ]
    }
   ],
   "source": [
    "model.summary()"
   ]
  },
  {
   "cell_type": "code",
   "execution_count": null,
   "id": "a0bb207e-21f2-4998-bce3-768f2a0d7273",
   "metadata": {},
   "outputs": [],
   "source": []
  }
 ],
 "metadata": {
  "kernelspec": {
   "display_name": "Python 3 (ipykernel)",
   "language": "python",
   "name": "python3"
  },
  "language_info": {
   "codemirror_mode": {
    "name": "ipython",
    "version": 3
   },
   "file_extension": ".py",
   "mimetype": "text/x-python",
   "name": "python",
   "nbconvert_exporter": "python",
   "pygments_lexer": "ipython3",
   "version": "3.8.10"
  }
 },
 "nbformat": 4,
 "nbformat_minor": 5
}
